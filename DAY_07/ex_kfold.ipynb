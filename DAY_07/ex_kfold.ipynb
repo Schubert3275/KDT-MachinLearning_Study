{
 "cells": [
  {
   "cell_type": "markdown",
   "metadata": {},
   "source": [
    "### 교차 검증\n",
    "\n",
    "-   부족한 데이터셋 및 특정 데이터에 과대적합되는 문제 해결하기 위한 방안\n",
    "-   학습 데이터셋을 일정 크기의 데이터로 n개 분리 후 1/n은 검증용, 나머지는 학습용으로 사용\n"
   ]
  },
  {
   "cell_type": "markdown",
   "metadata": {},
   "source": [
    "[1] 모듈 로딩 및 데이터 준비 <hr>\n"
   ]
  },
  {
   "cell_type": "code",
   "execution_count": 110,
   "metadata": {},
   "outputs": [],
   "source": [
    "import numpy as np\n",
    "from sklearn.model_selection import KFold\n",
    "\n",
    "X = np.array([[1, 2], [3, 4], [1, 2], [3, 4]])\n",
    "y = np.array([1, 2, 3, 4])\n"
   ]
  },
  {
   "cell_type": "code",
   "execution_count": 111,
   "metadata": {},
   "outputs": [],
   "source": [
    "# KFold 인스턴스 생성 => 데이터를 2개로 분할해주는 객체\n",
    "k_fold = KFold(n_splits=2)\n"
   ]
  },
  {
   "cell_type": "code",
   "execution_count": 112,
   "metadata": {},
   "outputs": [
    {
     "name": "stdout",
     "output_type": "stream",
     "text": [
      "(array([2, 3]), array([0, 1]))\n",
      "(array([0, 1]), array([2, 3]))\n"
     ]
    }
   ],
   "source": [
    "# 데이터 분할\n",
    "datasets = k_fold.split(X, y)\n",
    "\n",
    "for dataset in datasets:\n",
    "    print(dataset)\n"
   ]
  },
  {
   "cell_type": "code",
   "execution_count": 113,
   "metadata": {},
   "outputs": [
    {
     "name": "stdout",
     "output_type": "stream",
     "text": [
      "<class 'pandas.core.frame.DataFrame'>\n",
      "RangeIndex: 56 entries, 0 to 55\n",
      "Data columns (total 4 columns):\n",
      " #   Column  Non-Null Count  Dtype  \n",
      "---  ------  --------------  -----  \n",
      " 0   Weight  56 non-null     float64\n",
      " 1   Length  56 non-null     float64\n",
      " 2   Height  56 non-null     float64\n",
      " 3   Width   56 non-null     float64\n",
      "dtypes: float64(4)\n",
      "memory usage: 1.9 KB\n"
     ]
    }
   ],
   "source": [
    "### perch.csv 파일 데이터 기본 5등분\n",
    "import pandas as pd\n",
    "\n",
    "perchDF = pd.read_csv(\"../data/perch3.csv\")\n",
    "perchDF.info()\n"
   ]
  },
  {
   "cell_type": "code",
   "execution_count": 114,
   "metadata": {},
   "outputs": [
    {
     "name": "stdout",
     "output_type": "stream",
     "text": [
      "0, (37,) (19,)\n",
      "1, (37,) (19,)\n",
      "2, (38,) (18,)\n"
     ]
    }
   ],
   "source": [
    "# perchDF => 5등분\n",
    "fold_5 = KFold(n_splits=3)\n",
    "\n",
    "datasets = fold_5.split(perchDF)\n",
    "\n",
    "for index, (train, test) in enumerate(datasets):\n",
    "    print(f\"{index}, {train.shape} {test.shape}\")\n"
   ]
  },
  {
   "cell_type": "code",
   "execution_count": 115,
   "metadata": {},
   "outputs": [
    {
     "name": "stdout",
     "output_type": "stream",
     "text": [
      "0, (44,) (12,)\n",
      "1, (45,) (11,)\n",
      "2, (45,) (11,)\n",
      "3, (45,) (11,)\n",
      "4, (45,) (11,)\n"
     ]
    }
   ],
   "source": [
    "# perchDF => 5등분\n",
    "fold_5 = KFold(n_splits=5)\n",
    "\n",
    "datasets = fold_5.split(perchDF)\n",
    "\n",
    "for index, (train, test) in enumerate(datasets):\n",
    "    print(f\"{index}, {train.shape} {test.shape}\")\n"
   ]
  },
  {
   "cell_type": "code",
   "execution_count": 116,
   "metadata": {},
   "outputs": [
    {
     "name": "stdout",
     "output_type": "stream",
     "text": [
      "<class 'pandas.core.frame.DataFrame'>\n",
      "RangeIndex: 150 entries, 0 to 149\n",
      "Data columns (total 5 columns):\n",
      " #   Column        Non-Null Count  Dtype  \n",
      "---  ------        --------------  -----  \n",
      " 0   sepal_length  150 non-null    float64\n",
      " 1   sepal_width   150 non-null    float64\n",
      " 2   petal_length  150 non-null    float64\n",
      " 3   petal_width   150 non-null    float64\n",
      " 4   species       150 non-null    object \n",
      "dtypes: float64(4), object(1)\n",
      "memory usage: 6.0+ KB\n"
     ]
    }
   ],
   "source": [
    "## 타겟이 분류인 경우\n",
    "irisDF = pd.read_csv(\"../data/iris.csv\")\n",
    "irisDF.info()\n"
   ]
  },
  {
   "cell_type": "code",
   "execution_count": 117,
   "metadata": {},
   "outputs": [],
   "source": [
    "k_fold = KFold(n_splits=3, shuffle=True)\n",
    "ret = k_fold.split(irisDF[irisDF.columns[:-1]])\n"
   ]
  },
  {
   "cell_type": "code",
   "execution_count": 118,
   "metadata": {},
   "outputs": [],
   "source": [
    "from sklearn.linear_model import LogisticRegression\n"
   ]
  },
  {
   "cell_type": "code",
   "execution_count": 119,
   "metadata": {},
   "outputs": [],
   "source": [
    "train_score3 = []\n",
    "for idx, (train, test) in enumerate(ret):\n",
    "    # 학습용, 테스트용 인덱스 변환\n",
    "    train_idx = train.tolist()\n",
    "    test_idx = test.tolist()\n",
    "\n",
    "    # 인덱스에 해당하는 데이터셋 추출\n",
    "    trainDF = irisDF.iloc[train_idx]\n",
    "    testDF = irisDF.iloc[test_idx]\n",
    "    # print(trainDF['species'].value_counts()/trainDF.shape[0])\n",
    "    # print(testDF['species'].value_counts()/testDF.shape[0])\n",
    "\n",
    "    x_train = trainDF[trainDF.columns[:-1]]\n",
    "    y_train = trainDF[trainDF.columns[-1]]\n",
    "\n",
    "    x_test = testDF[testDF.columns[:-1]]\n",
    "    y_test = testDF[testDF.columns[-1]]\n",
    "\n",
    "    # 분류 모델 학습\n",
    "    log_model = LogisticRegression(max_iter=1000, solver=\"liblinear\")\n",
    "    log_model.fit(x_train, y_train)\n",
    "\n",
    "    # 훈련 및 검증용 성능\n",
    "    train_score = log_model.score(x_train, y_train)\n",
    "    test_score = log_model.score(x_test, y_test)\n",
    "\n",
    "    train_score3.append(test_score)\n"
   ]
  },
  {
   "cell_type": "code",
   "execution_count": 125,
   "metadata": {},
   "outputs": [
    {
     "data": {
      "text/plain": [
       "0.9466666666666667"
      ]
     },
     "execution_count": 125,
     "metadata": {},
     "output_type": "execute_result"
    }
   ],
   "source": [
    "sum(train_score3) / 3\n"
   ]
  },
  {
   "cell_type": "code",
   "execution_count": null,
   "metadata": {},
   "outputs": [],
   "source": []
  }
 ],
 "metadata": {
  "kernelspec": {
   "display_name": "MachineLearning39",
   "language": "python",
   "name": "python3"
  },
  "language_info": {
   "codemirror_mode": {
    "name": "ipython",
    "version": 3
   },
   "file_extension": ".py",
   "mimetype": "text/x-python",
   "name": "python",
   "nbconvert_exporter": "python",
   "pygments_lexer": "ipython3",
   "version": "3.9.18"
  }
 },
 "nbformat": 4,
 "nbformat_minor": 2
}
