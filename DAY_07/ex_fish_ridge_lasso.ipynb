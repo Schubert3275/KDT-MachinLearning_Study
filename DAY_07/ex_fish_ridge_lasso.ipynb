{
 "cells": [
  {
   "cell_type": "markdown",
   "metadata": {},
   "source": [
    "### 목표 : 많은 특성의 데이터셋에서 과대적합 해결\n",
    "\n",
    "-   데이터 : perch3.csv\n",
    "-   피쳐 : Length, Height, Width\n",
    "-   타겟 : Weight\n",
    "-   [조건]\n",
    "    -   특성 추가 => degree = 5로 설정\n"
   ]
  },
  {
   "cell_type": "code",
   "execution_count": null,
   "metadata": {},
   "outputs": [],
   "source": []
  }
 ],
 "metadata": {
  "language_info": {
   "name": "python"
  }
 },
 "nbformat": 4,
 "nbformat_minor": 2
}
