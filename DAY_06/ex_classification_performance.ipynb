{
 "cells": [
  {
   "cell_type": "markdown",
   "metadata": {},
   "source": [
    "### 분류 모델 성능지표\n",
    "\n",
    "-   모델 구현 후 성능 평가 방식\n",
    "-   정확도(Accuracy) : 불균형 데이터에 부적합\n",
    "-   보완 평가 방식 : 정밀도, 재현율, F1 점수, 혼돈행렬 테이블\n"
   ]
  },
  {
   "cell_type": "markdown",
   "metadata": {},
   "source": [
    "(1) 임시 데이터 <hr>\n"
   ]
  },
  {
   "cell_type": "code",
   "execution_count": 1,
   "metadata": {},
   "outputs": [],
   "source": [
    "y_true = [0, 1, 1, 0]\n",
    "y_pre = [1, 1, 1, 0]\n"
   ]
  },
  {
   "cell_type": "markdown",
   "metadata": {},
   "source": [
    "(2) 분류 평가지표 <hr>\n"
   ]
  },
  {
   "cell_type": "code",
   "execution_count": 2,
   "metadata": {},
   "outputs": [
    {
     "name": "stdout",
     "output_type": "stream",
     "text": [
      "[분류 정확도] => 0.75\n"
     ]
    }
   ],
   "source": [
    "## (2-1) 분류 정확도 => accuracy : 불균형 데이터의 경우 모델 평가 지표로 사용 불가\n",
    "from sklearn.metrics import accuracy_score\n",
    "\n",
    "ret = accuracy_score(y_true, y_pre)\n",
    "print(f\"[분류 정확도] => {ret}\")\n"
   ]
  },
  {
   "cell_type": "code",
   "execution_count": 3,
   "metadata": {},
   "outputs": [
    {
     "name": "stdout",
     "output_type": "stream",
     "text": [
      "[분류 정밀도] => 0.6666666666666666\n"
     ]
    }
   ],
   "source": [
    "## (2-2) 정밀도 => precision : 예측 양성율\n",
    "from sklearn.metrics import precision_score\n",
    "\n",
    "ret = precision_score(y_true, y_pre)\n",
    "print(f\"[분류 정밀도] => {ret}\")\n"
   ]
  },
  {
   "cell_type": "code",
   "execution_count": 4,
   "metadata": {},
   "outputs": [
    {
     "name": "stdout",
     "output_type": "stream",
     "text": [
      "[분류 재현율] => 1.0\n"
     ]
    }
   ],
   "source": [
    "## (2-3) 재현율 => recall : 양성율\n",
    "from sklearn.metrics import recall_score\n",
    "\n",
    "ret = recall_score(y_true, y_pre)\n",
    "print(f\"[분류 재현율] => {ret}\")\n"
   ]
  },
  {
   "cell_type": "code",
   "execution_count": 5,
   "metadata": {},
   "outputs": [
    {
     "name": "stdout",
     "output_type": "stream",
     "text": [
      "[분류 f1점수] => 0.8\n"
     ]
    }
   ],
   "source": [
    "## (2-4) f1-점수 => f1-score : 정밀도와 재현율 상호보완 조화평균\n",
    "from sklearn.metrics import f1_score\n",
    "\n",
    "ret = f1_score(y_true, y_pre)\n",
    "print(f\"[분류 f1점수] => {ret}\")\n"
   ]
  },
  {
   "cell_type": "code",
   "execution_count": 6,
   "metadata": {},
   "outputs": [],
   "source": [
    "## (2-5) 혼돈행렬 값 출력\n",
    "from sklearn.metrics import confusion_matrix, ConfusionMatrixDisplay\n"
   ]
  },
  {
   "cell_type": "code",
   "execution_count": 7,
   "metadata": {},
   "outputs": [
    {
     "data": {
      "text/plain": [
       "array([[1, 1],\n",
       "       [0, 2]], dtype=int64)"
      ]
     },
     "execution_count": 7,
     "metadata": {},
     "output_type": "execute_result"
    }
   ],
   "source": [
    "# 반환값 : tn, fp, fn, tp\n",
    "ret_matrix = confusion_matrix(y_true, y_pre)\n",
    "ret_matrix\n"
   ]
  },
  {
   "cell_type": "code",
   "execution_count": 8,
   "metadata": {},
   "outputs": [
    {
     "data": {
      "text/plain": [
       "(1, 1, 0, 2)"
      ]
     },
     "execution_count": 8,
     "metadata": {},
     "output_type": "execute_result"
    }
   ],
   "source": [
    "tn, fp, fn, tp = ret_matrix.ravel()\n",
    "tn, fp, fn, tp\n"
   ]
  },
  {
   "cell_type": "code",
   "execution_count": 9,
   "metadata": {},
   "outputs": [
    {
     "name": "stdout",
     "output_type": "stream",
     "text": [
      "정확도 : 0.75\n",
      "정밀도 : 0.6666666666666666\n",
      "재현율 : 1.0\n",
      "f1점수 : 0.8\n"
     ]
    }
   ],
   "source": [
    "# 정확도, 정밀도, 재현율, f1-score 계산\n",
    "accuracy = (tn + tp) / (tn + fp + fn + tp)\n",
    "precision = tp / (fp + tp)\n",
    "recall = tp / (fn + tp)\n",
    "f1score = 2 * (precision * recall) / (precision + recall)\n",
    "print(f\"정확도 : {accuracy}\")\n",
    "print(f\"정밀도 : {precision}\")\n",
    "print(f\"재현율 : {recall}\")\n",
    "print(f\"f1점수 : {f1score}\")\n"
   ]
  },
  {
   "cell_type": "code",
   "execution_count": null,
   "metadata": {},
   "outputs": [],
   "source": []
  }
 ],
 "metadata": {
  "kernelspec": {
   "display_name": "MachineLearning39",
   "language": "python",
   "name": "python3"
  },
  "language_info": {
   "codemirror_mode": {
    "name": "ipython",
    "version": 3
   },
   "file_extension": ".py",
   "mimetype": "text/x-python",
   "name": "python",
   "nbconvert_exporter": "python",
   "pygments_lexer": "ipython3",
   "version": "3.9.18"
  }
 },
 "nbformat": 4,
 "nbformat_minor": 2
}
